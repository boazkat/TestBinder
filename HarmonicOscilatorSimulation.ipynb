{
 "cells": [
  {
   "cell_type": "code",
   "execution_count": null,
   "metadata": {},
   "outputs": [],
   "source": [
    "%pylab inline\n",
    "from IPython.display import HTML"
   ]
  },
  {
   "cell_type": "code",
   "execution_count": null,
   "metadata": {
    "collapsed": true
   },
   "outputs": [],
   "source": [
    "global sOpn,sEnd,svarx,svary,sdtms\n",
    "def StartBall(x,y):\n",
    "    global sOpn,sEnd,svarx,svary,sdtms,simulation\n",
    "    file = open('HTMLAnimationOpening.txt', 'r')\n",
    "    sOpn=file.read()\n",
    "    file.close()\n",
    "    file = open('HTMLAnimationEnding.txt', 'r')\n",
    "    sEnd=file.read()\n",
    "    file.close()\n",
    "    svarx='\\n var x=['+str(x)\n",
    "    svary='\\n var y=['+str(y)\n",
    "def MoveBallTo(x,y):\n",
    "    global svarx,svary\n",
    "    svarx+=','+str(x)\n",
    "    svary+=','+str(y)\n",
    "def RunBall(dts):\n",
    "    global sOpn,sEnd,svarx,svary,sdtms\n",
    "    sdtms='\\n var dtms='+'%.0f'%round(dts*1000)+';\\n'\n",
    "    svarx+=']; \\n'\n",
    "    svary+=']; \\n'\n",
    "    animation=sOpn+sdtms+svarx+svary+sEnd\n",
    "    file = open('HTMLAnimation.html', 'w+')\n",
    "    file.write(animation)\n",
    "    file.close()\n",
    "    return animation"
   ]
  },
  {
   "cell_type": "code",
   "execution_count": null,
   "metadata": {},
   "outputs": [],
   "source": [
    "t=0\n",
    "dt=0.01\n",
    "x=3\n",
    "y=0\n",
    "v=0\n",
    "StartBall(x,y)\n",
    "\n",
    "while t<10:\n",
    "    t=t+dt\n",
    "    x=x+v*dt\n",
    "    a=-x\n",
    "    v=v+a*dt\n",
    "    MoveBallTo(x,y)\n",
    "    \n",
    "HTML(RunBall(dt))"
   ]
  },
  {
   "cell_type": "code",
   "execution_count": null,
   "metadata": {
    "collapsed": true
   },
   "outputs": [],
   "source": []
  }
 ],
 "metadata": {
  "kernelspec": {
   "display_name": "Python 3",
   "language": "python",
   "name": "python3"
  },
  "language_info": {
   "codemirror_mode": {
    "name": "ipython",
    "version": 3
   },
   "file_extension": ".py",
   "mimetype": "text/x-python",
   "name": "python",
   "nbconvert_exporter": "python",
   "pygments_lexer": "ipython3",
   "version": "3.6.1"
  }
 },
 "nbformat": 4,
 "nbformat_minor": 2
}
